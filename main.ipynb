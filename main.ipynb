{
 "cells": [
  {
   "attachments": {},
   "cell_type": "markdown",
   "metadata": {},
   "source": [
    "# Robinhood tax document to pandas\n",
    "\n",
    "This script helps me file state taxes since there are 17 pages of dividend details and I no longer want to manually calculate the totals within each state.\n",
    "\n",
    "Specifically, since...\n",
    "\n",
    "- the tax software wants to know how much dividends and sales gains/losses I earned while residing in each state,\n",
    "- Robinhood doesn't offer a nice, clean CSV for dividends\n",
    "\n",
    "I wrote this script (alongside ChatGPT) to:\n",
    "- crop PDF where the tables are\n",
    "- converts the cropped image to text\n",
    "- serializes captured rows as pandas DataFrame\n",
    "- sum up dividends prior to and after move date\n",
    "\n",
    "Use at your own risk if you decide to use this for your own taxes."
   ]
  },
  {
   "attachments": {},
   "cell_type": "markdown",
   "metadata": {},
   "source": [
    "## Preprocessing\n",
    "\n",
    "First, adjust custom settings...\n",
    "\n",
    "Then:\n",
    "\n",
    "- Open PDF\n",
    "- Crop desired part of table\n",
    "- Save as PNG\n",
    "\n",
    "Finally:\n",
    "\n",
    "- Open saved PNG\n",
    "- Read text from PNG\n",
    "- Convert text to pandas\n",
    "- Join all tables\n",
    "- Fix column data types"
   ]
  },
  {
   "cell_type": "code",
   "execution_count": null,
   "metadata": {},
   "outputs": [],
   "source": [
    "import fitz\n",
    "import cv2\n",
    "import pytesseract\n",
    "import pandas as pd\n",
    "\n",
    "pd.set_option(\"display.max_columns\", None)\n",
    "\n",
    "# custom settings\n",
    "pdf_file = (\n",
    "    \"robinhood.pdf\"  # downloaded Consolidated Tax Statement from Robinhood account\n",
    ")\n",
    "start_page = 14  # zero based index--if PDF reader shows \"Page 15 of 42\", use 14\n",
    "end_page = 32  # if last page of PDF reader shows \"Page 32 of 42\", use 32\n",
    "move_date = pd.to_datetime(\"2022-05-24\")  # date moved to a different state\n",
    "tax_year = move_date.strftime(\"%y\")\n",
    "\n",
    "# read and crop the PDF pages to desired part of tables and save as PNG files\n",
    "x0, y0, x1, y1 = 350, 85, 650, 535  # coordinates of the region to be saved\n",
    "doc = fitz.open(pdf_file)\n",
    "for page_number in range(start_page, end_page):\n",
    "    output_image_file = f\"r{page_number:02.0f}.png\"\n",
    "    page = doc[page_number]\n",
    "    if page_number == 14:\n",
    "        rect = fitz.Rect(x0, y0 + 125, x1, y1)\n",
    "    else:\n",
    "        rect = fitz.Rect(x0, y0, x1, y1)\n",
    "    pix = page.get_pixmap(matrix=fitz.Matrix(300 / 72, 300 / 72), clip=rect)\n",
    "    pix.save(output_image_file)\n",
    "\n",
    "# read png and extract text, converting to pandas\n",
    "df_list = []\n",
    "for page_number in range(start_page, end_page):\n",
    "    img = cv2.imread(f\"r{page_number:02.0f}.png\")\n",
    "    gray = cv2.cvtColor(img, cv2.COLOR_BGR2GRAY)\n",
    "    gray = cv2.GaussianBlur(gray, (5, 5), 0)\n",
    "    text = pytesseract.image_to_string(gray, lang=\"eng\", config=\"--psm 6\")\n",
    "    # include only rows where there's a date available\n",
    "    # e.g. checking if /22 in row because the total lines, like\n",
    "    # \"Total Dividends & distributions\" and \"Total Foreign tax withheld\"\n",
    "    # do not have a date in the same line\n",
    "    rows = (\n",
    "        row.split(maxsplit=2)\n",
    "        for row in text.strip().split(\"\\n\")\n",
    "        if f\"/{tax_year} \" in row\n",
    "    )\n",
    "    df = pd.DataFrame(rows, columns=[\"date\", \"amount\", \"transaction\"])\n",
    "    df_list.append(df)\n",
    "\n",
    "# join all the tables and do some postprocessing on the column data types\n",
    "df = pd.concat(df_list).set_index(\"date\")\n",
    "df[\"amount\"] = df[\"amount\"].astype(float)\n",
    "df.index = pd.to_datetime(df.index)\n",
    "print(df[\"transaction\"].unique())\n"
   ]
  },
  {
   "attachments": {},
   "cell_type": "markdown",
   "metadata": {},
   "source": [
    "## Total dividends by move date"
   ]
  },
  {
   "cell_type": "code",
   "execution_count": null,
   "metadata": {},
   "outputs": [],
   "source": [
    "# since all the desired transaction categories have \" dividend\" in them,\n",
    "# exclude the \"Nondividend distribution\" by checking by space\n",
    "# 'Qualified dividend', 'Nonqualified dividend', 'Nondividend distribution', 'Section 199A dividend'\n",
    "df_sub = df.loc[df[\"transaction\"].str.contains(\" dividend\")]\n",
    "print(\n",
    "    f\"\"\"\n",
    "    Previous State Dividends: {df_sub.loc[df_sub.index < move_date, \"amount\"].sum():.2f},\n",
    "    Current State Dividends: {df_sub.loc[df_sub.index >= move_date, \"amount\"].sum():.2f},\n",
    "    Total Dividends: {df_sub[\"amount\"].sum():.2f}\n",
    "\"\"\"\n",
    ")\n"
   ]
  },
  {
   "cell_type": "markdown",
   "metadata": {},
   "source": [
    "## Total sales by move date"
   ]
  },
  {
   "cell_type": "code",
   "execution_count": null,
   "metadata": {},
   "outputs": [],
   "source": [
    "# now do something similar for sales of stocks; ignore the first two rows which is a summary of dividends\n",
    "# (why didn't robinhood include all details of dividends like the sales? :/)\n",
    "df_csv = pd.read_csv(\"robinhood_transactions.csv\", skiprows=2, index_col=\"SALE DATE\", parse_dates=True)\n",
    "df_csv[\"gain_or_loss\"] = df_csv[\"SALES PRICE\"] - df_csv[\"COST BASIS\"]\n",
    "print(\n",
    "    f\"\"\"\n",
    "    Previous State Gains or Losses: {df_csv.loc[df_csv.index < move_date, \"gain_or_loss\"].sum():.2f},\n",
    "    Current State Gains or Losses: {df_csv.loc[df_csv.index >= move_date, \"gain_or_loss\"].sum():.2f},\n",
    "    Total Gains or Losses: {df_csv[\"gain_or_loss\"].sum():.2f}\n",
    "\"\"\")"
   ]
  }
 ],
 "metadata": {
  "kernelspec": {
   "display_name": "base",
   "language": "python",
   "name": "python3"
  },
  "language_info": {
   "codemirror_mode": {
    "name": "ipython",
    "version": 3
   },
   "file_extension": ".py",
   "mimetype": "text/x-python",
   "name": "python",
   "nbconvert_exporter": "python",
   "pygments_lexer": "ipython3",
   "version": "3.10.6"
  },
  "orig_nbformat": 4
 },
 "nbformat": 4,
 "nbformat_minor": 2
}
